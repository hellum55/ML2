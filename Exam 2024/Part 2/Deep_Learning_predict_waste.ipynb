{
  "nbformat": 4,
  "nbformat_minor": 0,
  "metadata": {
    "colab": {
      "provenance": [],
      "authorship_tag": "ABX9TyNMG7I5RPyoQl/Y1l+hFrva",
      "include_colab_link": true
    },
    "kernelspec": {
      "name": "python3",
      "display_name": "Python 3"
    },
    "language_info": {
      "name": "python"
    }
  },
  "cells": [
    {
      "cell_type": "markdown",
      "metadata": {
        "id": "view-in-github",
        "colab_type": "text"
      },
      "source": [
        "<a href=\"https://colab.research.google.com/github/hellum55/ML2/blob/main/Exam%202024/Part%202/Deep_Learning_predict_waste.ipynb\" target=\"_parent\"><img src=\"https://colab.research.google.com/assets/colab-badge.svg\" alt=\"Open In Colab\"/></a>"
      ]
    },
    {
      "cell_type": "markdown",
      "source": [
        "First load desired packages. Then load from the downloaded zip file"
      ],
      "metadata": {
        "id": "xlkgoaXKG5Cu"
      }
    },
    {
      "cell_type": "code",
      "execution_count": 1,
      "metadata": {
        "id": "joRft84yq4ur"
      },
      "outputs": [],
      "source": [
        "from google.colab import drive\n",
        "import zipfile\n",
        "import os\n",
        "from PIL import Image\n",
        "import os\n",
        "import numpy as np\n",
        "from pathlib import Path\n",
        "import matplotlib.pyplot as plt\n",
        "from torchvision.datasets import ImageFolder\n",
        "import torchvision.transforms as T"
      ]
    },
    {
      "cell_type": "code",
      "source": [
        "# Mount Google Drive\n",
        "drive.mount('/content/gdrive')\n",
        "\n",
        "# Define the path to the ZIP file on Google Drive\n",
        "zip_path = '/content/gdrive/MyDrive/Colab Notebooks/data_waste/realwaste.zip'\n",
        "\n",
        "# Specify the directory to extract to\n",
        "extract_path = '/content/gdrive/MyDrive/Colab Notebooks/data_waste'\n",
        "\n",
        "# Unzip the file in the specified directory\n",
        "with zipfile.ZipFile(zip_path, 'r') as zip_ref:\n",
        "    zip_ref.extractall(extract_path)\n",
        "    print(f\"Files have been extracted to {extract_path}\")"
      ],
      "metadata": {
        "colab": {
          "base_uri": "https://localhost:8080/"
        },
        "id": "D7fCg45gGf22",
        "outputId": "08670b8d-1f2a-47c6-bda1-c7d589b1b55e"
      },
      "execution_count": null,
      "outputs": [
        {
          "output_type": "stream",
          "name": "stdout",
          "text": [
            "Drive already mounted at /content/gdrive; to attempt to forcibly remount, call drive.mount(\"/content/gdrive\", force_remount=True).\n",
            "Files have been extracted to /content/gdrive/MyDrive/Colab Notebooks/data_waste\n"
          ]
        }
      ]
    },
    {
      "cell_type": "markdown",
      "source": [
        "Question a: Inspect the images for noise, ambiguous features, and rare features. Plot as many as you need\n",
        "to familiarize yourself with the data. CH5 is helpful here."
      ],
      "metadata": {
        "id": "dBRrpaN_Mryy"
      }
    },
    {
      "cell_type": "code",
      "source": [
        "# collect directory\n",
        "data_dir = Path('/content/gdrive/MyDrive/Colab Notebooks/data_waste/realwaste-main/RealWaste')\n",
        "\n",
        "transformer = T.Compose([T.Resize((32, 32)), T.ToTensor()])\n",
        "dataset = ImageFolder(data_dir, transform = transformer)\n",
        "\n",
        "# display class names\n",
        "print(dataset.classes)"
      ],
      "metadata": {
        "colab": {
          "base_uri": "https://localhost:8080/"
        },
        "id": "a2NG7BEAYDKZ",
        "outputId": "1948f2f9-42f2-41b7-f96e-3a48614a4201"
      },
      "execution_count": null,
      "outputs": [
        {
          "output_type": "stream",
          "name": "stdout",
          "text": [
            "['Cardboard', 'Food Organics', 'Glass', 'Metal', 'Miscellaneous Trash', 'Paper', 'Plastic', 'Textile Trash', 'Vegetation']\n"
          ]
        }
      ]
    },
    {
      "cell_type": "code",
      "source": [
        "# display class distribution\n",
        "fig = plt.figure()\n",
        "ax = fig.add_axes([0,0,1,1])\n",
        "counts = [461,411,420,790,495,500,921,318,436]\n",
        "ax.bar(dataset.classes, counts)\n",
        "plt.title('Class Distribution')\n",
        "plt.show()"
      ],
      "metadata": {
        "colab": {
          "base_uri": "https://localhost:8080/",
          "height": 563
        },
        "id": "XZVSOEoLabzg",
        "outputId": "043662e3-31eb-47cf-f722-bfe658853884"
      },
      "execution_count": null,
      "outputs": [
        {
          "output_type": "display_data",
          "data": {
            "text/plain": [
              "<Figure size 640x480 with 1 Axes>"
            ],
            "image/png": "[encoded data removed]"
          },
          "metadata": {}
        }
      ]
    },
    {
      "cell_type": "markdown",
      "source": [
        "Split the data into train and validation sets. Test set will be provided at the exam."
      ],
      "metadata": {
        "id": "x4tyeS7YfTxm"
      }
    },
    {
      "cell_type": "code",
      "source": [
        "import os, shutil, pathlib\n",
        "\n",
        "original_dir = pathlib.Path(\"train\")\n",
        "new_base_dir = pathlib.Path(\"cats_vs_dogs_small\")\n",
        "\n",
        "def make_subset(subset_name, start_index, end_index):\n",
        "    for category in (\"cat\", \"dog\"):\n",
        "        dir = new_base_dir / subset_name / category\n",
        "        os.makedirs(dir)\n",
        "        fnames = [f\"{category}.{i}.jpg\"\n",
        "                  for i in range(start_index, end_index)]\n",
        "        for fname in fnames:\n",
        "            shutil.copyfile(src=original_dir / fname,\n",
        "                            dst=dir / fname)\n",
        "\n",
        "make_subset(\"train\", start_index=0, end_index=1000)\n",
        "make_subset(\"validation\", start_index=1000, end_index=1500)\n",
        "make_subset(\"test\", start_index=1500, end_index=2500)\n",
        "\n",
        "Uddrag fra\n",
        "Deep Learning with Python, Second Edition\n",
        "François Chollet\n",
        "Dette materiale kan være beskyttet af ophavsret."
      ],
      "metadata": {
        "id": "Qw63_iK2feon"
      },
      "execution_count": null,
      "outputs": []
    }
  ]
}