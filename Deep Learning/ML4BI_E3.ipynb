{
  "nbformat": 4,
  "nbformat_minor": 0,
  "metadata": {
    "colab": {
      "provenance": [],
      "include_colab_link": true
    },
    "kernelspec": {
      "name": "python3",
      "display_name": "Python 3"
    },
    "language_info": {
      "name": "python"
    }
  },
  "cells": [
    {
      "cell_type": "markdown",
      "metadata": {
        "id": "view-in-github",
        "colab_type": "text"
      },
      "source": [
        "<a href=\"https://colab.research.google.com/github/hellum55/ML2/blob/main/Deep%20Learning/ML4BI_E3.ipynb\" target=\"_parent\"><img src=\"https://colab.research.google.com/assets/colab-badge.svg\" alt=\"Open In Colab\"/></a>"
      ]
    },
    {
      "cell_type": "markdown",
      "source": [
        "# Machine Learning for BI 2\n",
        "\n",
        "## Deep Learning exercises for week 3"
      ],
      "metadata": {
        "id": "LhmlWPq36NGe"
      }
    },
    {
      "cell_type": "markdown",
      "source": [
        "In this exercise, you'll practice on the examples we went through during the lectures."
      ],
      "metadata": {
        "id": "R86GoAnuNAul"
      }
    },
    {
      "cell_type": "markdown",
      "source": [
        "Try one or more!\n",
        "\n",
        "1. You used two representation layers before the final classification layer. Try using one or three representation layers, and see how doing so affects validation and test accuracy\n",
        "\n",
        "2. Try using layers with more units or fewer units: 32 units, 64 units, and so on."
      ],
      "metadata": {
        "id": "v7dKmBcUOCM1"
      }
    },
    {
      "cell_type": "markdown",
      "source": [
        "**Loading the IMDB dataset**"
      ],
      "metadata": {
        "id": "s95akDzCSbJa"
      }
    },
    {
      "cell_type": "code",
      "execution_count": 1,
      "metadata": {
        "id": "fKX6saifMo5c",
        "outputId": "98365e5a-bf40-4479-94fb-97c8c70be0f1",
        "colab": {
          "base_uri": "https://localhost:8080/"
        }
      },
      "outputs": [
        {
          "output_type": "stream",
          "name": "stdout",
          "text": [
            "Downloading data from https://storage.googleapis.com/tensorflow/tf-keras-datasets/imdb.npz\n",
            "17464789/17464789 [==============================] - 0s 0us/step\n"
          ]
        }
      ],
      "source": [
        "from tensorflow.keras.datasets import imdb\n",
        "(train_data, train_labels), (test_data, test_labels) = imdb.load_data(\n",
        "    num_words=10000)"
      ]
    },
    {
      "cell_type": "markdown",
      "source": [
        "**Encoding the integer sequences via multi-hot encoding**"
      ],
      "metadata": {
        "id": "yfMqtfUAUQJo"
      }
    },
    {
      "cell_type": "code",
      "source": [
        "import numpy as np\n",
        "def vectorize_sequences(sequences, dimension=10000):\n",
        "    results = np.zeros((len(sequences), dimension))\n",
        "    for i, sequence in enumerate(sequences):\n",
        "        for j in sequence:\n",
        "            results[i, j] = 1.\n",
        "    return results\n",
        "x_train = vectorize_sequences(train_data)\n",
        "x_test = vectorize_sequences(test_data)"
      ],
      "metadata": {
        "id": "BLa2zDaFUQgm"
      },
      "execution_count": 2,
      "outputs": []
    },
    {
      "cell_type": "code",
      "source": [
        "y_train = np.asarray(train_labels).astype(\"float32\")\n",
        "y_test = np.asarray(test_labels).astype(\"float32\")"
      ],
      "metadata": {
        "id": "ckbX-s7FUT1v"
      },
      "execution_count": 3,
      "outputs": []
    },
    {
      "cell_type": "markdown",
      "source": [
        "### Building your model"
      ],
      "metadata": {
        "id": "lSoAPMlmUW2n"
      }
    },
    {
      "cell_type": "code",
      "source": [
        "from tensorflow import keras\n",
        "from tensorflow.keras import layers\n",
        "\n",
        "model = keras.Sequential([\n",
        "    ## YOUR CODE HERE\n",
        "    layers.Dense(1, activation=\"sigmoid\")\n",
        "])"
      ],
      "metadata": {
        "id": "rsGTgLKyUZRC"
      },
      "execution_count": 4,
      "outputs": []
    },
    {
      "cell_type": "code",
      "source": [
        "model.compile(optimizer=\"rmsprop\",\n",
        "              loss=\"binary_crossentropy\",\n",
        "              metrics=[\"accuracy\"])"
      ],
      "metadata": {
        "id": "kgoR_a2lUeIG"
      },
      "execution_count": 5,
      "outputs": []
    },
    {
      "cell_type": "code",
      "source": [
        "x_val = x_train[:10000]\n",
        "partial_x_train = x_train[10000:]\n",
        "y_val = y_train[:10000]\n",
        "partial_y_train = y_train[10000:]"
      ],
      "metadata": {
        "id": "anTsCN17Uf3Q"
      },
      "execution_count": 6,
      "outputs": []
    },
    {
      "cell_type": "code",
      "source": [
        "history = model.fit(partial_x_train,\n",
        "                    partial_y_train,\n",
        "                    epochs=20,\n",
        "                    batch_size=512,\n",
        "                    validation_data=(x_val, y_val),\n",
        "                    verbose=0)"
      ],
      "metadata": {
        "id": "pES45acbUh4m"
      },
      "execution_count": 7,
      "outputs": []
    },
    {
      "cell_type": "code",
      "source": [
        "import matplotlib.pyplot as plt\n",
        "history_dict = history.history\n",
        "loss_values = history_dict[\"loss\"]\n",
        "val_loss_values = history_dict[\"val_loss\"]\n",
        "epochs = range(1, len(loss_values) + 1)\n",
        "plt.plot(epochs, loss_values, \"bo\", label=\"Training loss\")\n",
        "plt.plot(epochs, val_loss_values, \"b\", label=\"Validation loss\")\n",
        "plt.title(\"Training and validation loss\")\n",
        "plt.xlabel(\"Epochs\")\n",
        "plt.ylabel(\"Loss\")\n",
        "plt.legend()\n",
        "plt.show()"
      ],
      "metadata": {
        "id": "yavnxHdEUoH1",
        "outputId": "dca26c0f-cd21-4395-fd3c-a56d98178de5",
        "colab": {
          "base_uri": "https://localhost:8080/",
          "height": 472
        }
      },
      "execution_count": 8,
      "outputs": [
        {
          "output_type": "display_data",
          "data": {
            "text/plain": [
              "<Figure size 640x480 with 1 Axes>"
            ],
            "image/png": "[encoded data removed]"
          },
          "metadata": {}
        }
      ]
    },
    {
      "cell_type": "markdown",
      "source": [
        "## Newswire\n",
        "\n",
        "### Information bottleneck\n",
        "\n",
        "Try creating an information bottleneck in your architecture. For example, you can this by using 64 neurons in the first layer and 4 neurons in the second."
      ],
      "metadata": {
        "id": "9buo88f1pceh"
      }
    },
    {
      "cell_type": "markdown",
      "source": [
        "Try different types of configurations and see how the validation loss or accuracy curve is affected. Write a function that allows to change the number of neurons in each layer and then make a joint plot of all the curves afterwards.\n",
        "\n",
        "I have copied in the data loading and labels encoding steps from the course notebook to help you get started."
      ],
      "metadata": {
        "id": "AjIlKGJ_zGXw"
      }
    },
    {
      "cell_type": "markdown",
      "source": [
        "**Loading the Reuters dataset**"
      ],
      "metadata": {
        "id": "LgNB9yPHpxT2"
      }
    },
    {
      "cell_type": "code",
      "source": [
        "from tensorflow.keras.datasets import reuters\n",
        "(train_data, train_labels), (test_data, test_labels) = reuters.load_data(\n",
        "    num_words=10000)"
      ],
      "metadata": {
        "colab": {
          "base_uri": "https://localhost:8080/"
        },
        "id": "d0YuXAD9pp9D",
        "outputId": "9e3c28b3-3187-47a8-bd06-db3e9507dfda"
      },
      "execution_count": 9,
      "outputs": [
        {
          "output_type": "stream",
          "name": "stdout",
          "text": [
            "Downloading data from https://storage.googleapis.com/tensorflow/tf-keras-datasets/reuters.npz\n",
            "2110848/2110848 [==============================] - 0s 0us/step\n"
          ]
        }
      ]
    },
    {
      "cell_type": "markdown",
      "source": [
        "**Decoding newswires back to text**"
      ],
      "metadata": {
        "id": "U-IbS0Zqpzn5"
      }
    },
    {
      "cell_type": "code",
      "source": [
        "x_train = vectorize_sequences(train_data)\n",
        "x_test = vectorize_sequences(test_data)"
      ],
      "metadata": {
        "id": "dUHd6Mk9pqmA"
      },
      "execution_count": 10,
      "outputs": []
    },
    {
      "cell_type": "markdown",
      "source": [
        "**Encoding the labels**"
      ],
      "metadata": {
        "id": "32W0i45mp28C"
      }
    },
    {
      "cell_type": "code",
      "source": [
        "def to_one_hot(labels, dimension=46):\n",
        "    results = np.zeros((len(labels), dimension))\n",
        "    for i, label in enumerate(labels):\n",
        "        results[i, label] = 1.\n",
        "    return results\n",
        "y_train = to_one_hot(train_labels)\n",
        "y_test = to_one_hot(test_labels)"
      ],
      "metadata": {
        "id": "v_c6rvCgp3c6"
      },
      "execution_count": 11,
      "outputs": []
    },
    {
      "cell_type": "code",
      "source": [
        "from tensorflow.keras.utils import to_categorical\n",
        "y_train = to_categorical(train_labels)\n",
        "y_test = to_categorical(test_labels)"
      ],
      "metadata": {
        "id": "fyZj5nvHp6ay"
      },
      "execution_count": 12,
      "outputs": []
    },
    {
      "cell_type": "markdown",
      "source": [
        "**Setting aside a validation set**"
      ],
      "metadata": {
        "id": "XTmxLsNVqhXt"
      }
    },
    {
      "cell_type": "code",
      "source": [
        "x_val = x_train[:1000]\n",
        "partial_x_train = x_train[1000:]\n",
        "y_val = y_train[:1000]\n",
        "partial_y_train = y_train[1000:]"
      ],
      "metadata": {
        "id": "JEljXdrPqgRD"
      },
      "execution_count": 22,
      "outputs": []
    },
    {
      "cell_type": "markdown",
      "source": [
        "### Building your model"
      ],
      "metadata": {
        "id": "YupIj34PqKg9"
      }
    },
    {
      "cell_type": "code",
      "source": [
        "##YOUR CODE\n",
        "model2 = keras.Sequential([\n",
        "    layers.Dense(64, activation=\"relu\"),\n",
        "    layers.Dense(64, activation=\"relu\"),\n",
        "    layers.Dense(46, activation=\"softmax\")\n",
        "])\n"
      ],
      "metadata": {
        "id": "BOw-wG4w6lUt"
      },
      "execution_count": 36,
      "outputs": []
    },
    {
      "cell_type": "code",
      "source": [
        "model2.compile(optimizer=\"rmsprop\",\n",
        "              loss=\"binary_crossentropy\",\n",
        "              metrics=[\"accuracy\"])"
      ],
      "metadata": {
        "id": "Ab8i9YjMn_n3"
      },
      "execution_count": 37,
      "outputs": []
    },
    {
      "cell_type": "code",
      "source": [
        "history = model2.fit(partial_x_train,\n",
        "                    partial_y_train,\n",
        "                    epochs=20,\n",
        "                    batch_size=512,\n",
        "                    validation_data=(x_val, y_val))"
      ],
      "metadata": {
        "id": "XhT8XOM5olEt",
        "outputId": "2183a3b0-09e8-47fc-95a5-85758bfea173",
        "colab": {
          "base_uri": "https://localhost:8080/"
        }
      },
      "execution_count": 38,
      "outputs": [
        {
          "output_type": "stream",
          "name": "stdout",
          "text": [
            "Epoch 1/20\n",
            "16/16 [==============================] - 2s 69ms/step - loss: 0.4961 - accuracy: 0.0163 - val_loss: 0.2576 - val_accuracy: 0.0050\n",
            "Epoch 2/20\n",
            "16/16 [==============================] - 1s 66ms/step - loss: 0.1726 - accuracy: 0.1518 - val_loss: 0.1168 - val_accuracy: 0.3580\n",
            "Epoch 3/20\n",
            "16/16 [==============================] - 1s 61ms/step - loss: 0.1004 - accuracy: 0.3554 - val_loss: 0.0894 - val_accuracy: 0.3540\n",
            "Epoch 4/20\n",
            "16/16 [==============================] - 1s 61ms/step - loss: 0.0829 - accuracy: 0.3723 - val_loss: 0.0783 - val_accuracy: 0.3690\n",
            "Epoch 5/20\n",
            "16/16 [==============================] - 1s 53ms/step - loss: 0.0735 - accuracy: 0.4112 - val_loss: 0.0700 - val_accuracy: 0.4460\n",
            "Epoch 6/20\n",
            "16/16 [==============================] - 1s 79ms/step - loss: 0.0666 - accuracy: 0.4727 - val_loss: 0.0640 - val_accuracy: 0.5060\n",
            "Epoch 7/20\n",
            "16/16 [==============================] - 2s 94ms/step - loss: 0.0615 - accuracy: 0.5246 - val_loss: 0.0597 - val_accuracy: 0.5530\n",
            "Epoch 8/20\n",
            "16/16 [==============================] - 1s 70ms/step - loss: 0.0578 - accuracy: 0.5556 - val_loss: 0.0562 - val_accuracy: 0.5580\n",
            "Epoch 9/20\n",
            "16/16 [==============================] - 1s 57ms/step - loss: 0.0547 - accuracy: 0.5832 - val_loss: 0.0536 - val_accuracy: 0.5850\n",
            "Epoch 10/20\n",
            "16/16 [==============================] - 1s 49ms/step - loss: 0.0522 - accuracy: 0.6143 - val_loss: 0.0514 - val_accuracy: 0.6060\n",
            "Epoch 11/20\n",
            "16/16 [==============================] - 1s 51ms/step - loss: 0.0500 - accuracy: 0.6407 - val_loss: 0.0496 - val_accuracy: 0.6330\n",
            "Epoch 12/20\n",
            "16/16 [==============================] - 1s 61ms/step - loss: 0.0482 - accuracy: 0.6585 - val_loss: 0.0478 - val_accuracy: 0.6460\n",
            "Epoch 13/20\n",
            "16/16 [==============================] - 1s 59ms/step - loss: 0.0466 - accuracy: 0.6699 - val_loss: 0.0464 - val_accuracy: 0.6570\n",
            "Epoch 14/20\n",
            "16/16 [==============================] - 1s 81ms/step - loss: 0.0452 - accuracy: 0.6789 - val_loss: 0.0453 - val_accuracy: 0.6650\n",
            "Epoch 15/20\n",
            "16/16 [==============================] - 1s 50ms/step - loss: 0.0439 - accuracy: 0.6882 - val_loss: 0.0444 - val_accuracy: 0.6580\n",
            "Epoch 16/20\n",
            "16/16 [==============================] - 1s 50ms/step - loss: 0.0427 - accuracy: 0.6958 - val_loss: 0.0433 - val_accuracy: 0.6740\n",
            "Epoch 17/20\n",
            "16/16 [==============================] - 1s 49ms/step - loss: 0.0417 - accuracy: 0.6991 - val_loss: 0.0423 - val_accuracy: 0.6810\n",
            "Epoch 18/20\n",
            "16/16 [==============================] - 1s 51ms/step - loss: 0.0408 - accuracy: 0.7040 - val_loss: 0.0417 - val_accuracy: 0.6970\n",
            "Epoch 19/20\n",
            "16/16 [==============================] - 1s 70ms/step - loss: 0.0398 - accuracy: 0.7110 - val_loss: 0.0409 - val_accuracy: 0.6880\n",
            "Epoch 20/20\n",
            "16/16 [==============================] - 1s 91ms/step - loss: 0.0390 - accuracy: 0.7150 - val_loss: 0.0402 - val_accuracy: 0.7030\n"
          ]
        }
      ]
    },
    {
      "cell_type": "code",
      "source": [
        "loss = history.history[\"loss\"]\n",
        "val_loss = history.history[\"val_loss\"]\n",
        "epochs = range(1, len(loss) + 1)\n",
        "plt.plot(epochs, loss, \"bo\", label=\"Training loss\")\n",
        "plt.plot(epochs, val_loss, \"b\", label=\"Validation loss\")\n",
        "plt.title(\"Training and validation loss\")\n",
        "plt.xlabel(\"Epochs\")\n",
        "plt.ylabel(\"Loss\")\n",
        "plt.legend()\n",
        "plt.show()"
      ],
      "metadata": {
        "id": "Cynt6lG2qakz",
        "outputId": "219237e8-c4ed-4030-cc22-9e63aba8f93e",
        "colab": {
          "base_uri": "https://localhost:8080/",
          "height": 472
        }
      },
      "execution_count": 39,
      "outputs": [
        {
          "output_type": "display_data",
          "data": {
            "text/plain": [
              "<Figure size 640x480 with 1 Axes>"
            ],
            "image/png": "[encoded data removed]"
          },
          "metadata": {}
        }
      ]
    }
  ]
}